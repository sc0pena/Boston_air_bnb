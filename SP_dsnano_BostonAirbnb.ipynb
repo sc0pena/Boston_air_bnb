{
 "cells": [
  {
   "cell_type": "code",
   "execution_count": 97,
   "id": "7799ae73",
   "metadata": {},
   "outputs": [],
   "source": [
    "#import necessary libraries\n",
    "import numpy as np\n",
    "import pandas as pd\n",
    "import matplotlib.pyplot as plt\n",
    "#import ALookAtTheData as t\n",
    "from IPython import display\n",
    "%matplotlib inline\n",
    "import seaborn as sns\n",
    "from sklearn.linear_model import LinearRegression\n",
    "from sklearn.model_selection import train_test_split\n",
    "from sklearn.metrics import r2_score, mean_squared_error\n",
    "\n",
    "#read csv files from Kaggle for Boston listings\n",
    "#https://www.kaggle.com/airbnb/boston?select=listings.csv\n",
    "#NOTE: file renamed from listings.csv to boston_listings.csv\n",
    "df_b_list = pd.read_csv('boston_listings.csv')\n",
    "#df_b_list.head()"
   ]
  },
  {
   "cell_type": "code",
   "execution_count": 98,
   "id": "f4b6579b",
   "metadata": {
    "scrolled": true
   },
   "outputs": [
    {
     "name": "stderr",
     "output_type": "stream",
     "text": [
      "<ipython-input-98-341bbc98973d>:4: FutureWarning: The default value of regex will change from True to False in a future version. In addition, single character regular expressions will*not* be treated as literal strings when regex=True.\n",
      "  df_b_list['price'] = pd.to_numeric(df_b_list['price'].str.replace(\"$\", \"\").str.replace(\",\", \"\"), errors = \"ignore\")\n"
     ]
    }
   ],
   "source": [
    "#code found on https://pbpython.com/currency-cleanup.html. converts price to float after removing $\n",
    "#futurewarning about value of regex when runs but still produces results; \n",
    "#for the sake of timely completion of this assignment, will ignore error for now and make changes in the future as needed\n",
    "df_b_list['price'] = pd.to_numeric(df_b_list['price'].str.replace(\"$\", \"\").str.replace(\",\", \"\"), errors = \"ignore\")"
   ]
  },
  {
   "cell_type": "code",
   "execution_count": 99,
   "id": "1ab5c312",
   "metadata": {},
   "outputs": [
    {
     "data": {
      "text/plain": [
       "793     1400.0\n",
       "1022    1300.0\n",
       "1262    1250.0\n",
       "1764    1000.0\n",
       "1896    1235.0\n",
       "1950    1345.0\n",
       "2204    1372.0\n",
       "2285    4000.0\n",
       "2448    1275.0\n",
       "3055    3000.0\n",
       "3096    1250.0\n",
       "3242    1000.0\n",
       "Name: price, dtype: float64"
      ]
     },
     "execution_count": 99,
     "metadata": {},
     "output_type": "execute_result"
    }
   ],
   "source": [
    "#sample larger values to ensure dollar sign and comma removed. price field also now float instead of object\n",
    "df_b_list.price.loc[df_b_list['price'] > 999]"
   ]
  },
  {
   "cell_type": "code",
   "execution_count": 100,
   "id": "b24c54d8",
   "metadata": {},
   "outputs": [
    {
     "data": {
      "text/plain": [
       "(3585, 95)"
      ]
     },
     "execution_count": 100,
     "metadata": {},
     "output_type": "execute_result"
    }
   ],
   "source": [
    "#3,585 total records\n",
    "df_b_list.shape"
   ]
  },
  {
   "cell_type": "code",
   "execution_count": 134,
   "id": "719a81f5",
   "metadata": {},
   "outputs": [],
   "source": [
    "#dataframes for three questions/sets\n",
    "df_1 = df_b_list[['price', 'bedrooms', 'bathrooms']] #question 1 and 2\n",
    "df_3 = df_b_list[['price', 'neighbourhood_cleansed']] #question 3\n",
    "df_4 = df_b_list[['room_type', 'calendar_updated', 'availability_90']] #question 4"
   ]
  },
  {
   "cell_type": "code",
   "execution_count": 102,
   "id": "49095b97",
   "metadata": {},
   "outputs": [
    {
     "data": {
      "text/plain": [
       "price        float64\n",
       "bedrooms     float64\n",
       "bathrooms    float64\n",
       "dtype: object"
      ]
     },
     "execution_count": 102,
     "metadata": {},
     "output_type": "execute_result"
    }
   ],
   "source": [
    "####################################################\n",
    "####################################################\n",
    "####################################################\n",
    "####################################################\n",
    "#Question 1: Is number of of bathrooms closely related to listing price? what about number of bedrooms?\n",
    "\n",
    "#check data types, set 1. Price set to Y; Bedrooms, Bathrooms, Beds set to X \n",
    "#Expect all datatypes as numeric/non-categorical. Checks out....\n",
    "df_1.dtypes"
   ]
  },
  {
   "cell_type": "code",
   "execution_count": 103,
   "id": "a7ba803c",
   "metadata": {},
   "outputs": [
    {
     "data": {
      "text/html": [
       "<div>\n",
       "<style scoped>\n",
       "    .dataframe tbody tr th:only-of-type {\n",
       "        vertical-align: middle;\n",
       "    }\n",
       "\n",
       "    .dataframe tbody tr th {\n",
       "        vertical-align: top;\n",
       "    }\n",
       "\n",
       "    .dataframe thead th {\n",
       "        text-align: right;\n",
       "    }\n",
       "</style>\n",
       "<table border=\"1\" class=\"dataframe\">\n",
       "  <thead>\n",
       "    <tr style=\"text-align: right;\">\n",
       "      <th></th>\n",
       "      <th>price</th>\n",
       "      <th>bedrooms</th>\n",
       "      <th>bathrooms</th>\n",
       "    </tr>\n",
       "  </thead>\n",
       "  <tbody>\n",
       "    <tr>\n",
       "      <th>count</th>\n",
       "      <td>3585.000000</td>\n",
       "      <td>3575.000000</td>\n",
       "      <td>3571.000000</td>\n",
       "    </tr>\n",
       "    <tr>\n",
       "      <th>mean</th>\n",
       "      <td>173.925802</td>\n",
       "      <td>1.255944</td>\n",
       "      <td>1.221647</td>\n",
       "    </tr>\n",
       "    <tr>\n",
       "      <th>std</th>\n",
       "      <td>148.331321</td>\n",
       "      <td>0.753060</td>\n",
       "      <td>0.501487</td>\n",
       "    </tr>\n",
       "    <tr>\n",
       "      <th>min</th>\n",
       "      <td>10.000000</td>\n",
       "      <td>0.000000</td>\n",
       "      <td>0.000000</td>\n",
       "    </tr>\n",
       "    <tr>\n",
       "      <th>25%</th>\n",
       "      <td>85.000000</td>\n",
       "      <td>1.000000</td>\n",
       "      <td>1.000000</td>\n",
       "    </tr>\n",
       "    <tr>\n",
       "      <th>50%</th>\n",
       "      <td>150.000000</td>\n",
       "      <td>1.000000</td>\n",
       "      <td>1.000000</td>\n",
       "    </tr>\n",
       "    <tr>\n",
       "      <th>75%</th>\n",
       "      <td>220.000000</td>\n",
       "      <td>2.000000</td>\n",
       "      <td>1.000000</td>\n",
       "    </tr>\n",
       "    <tr>\n",
       "      <th>max</th>\n",
       "      <td>4000.000000</td>\n",
       "      <td>5.000000</td>\n",
       "      <td>6.000000</td>\n",
       "    </tr>\n",
       "  </tbody>\n",
       "</table>\n",
       "</div>"
      ],
      "text/plain": [
       "             price     bedrooms    bathrooms\n",
       "count  3585.000000  3575.000000  3571.000000\n",
       "mean    173.925802     1.255944     1.221647\n",
       "std     148.331321     0.753060     0.501487\n",
       "min      10.000000     0.000000     0.000000\n",
       "25%      85.000000     1.000000     1.000000\n",
       "50%     150.000000     1.000000     1.000000\n",
       "75%     220.000000     2.000000     1.000000\n",
       "max    4000.000000     5.000000     6.000000"
      ]
     },
     "execution_count": 103,
     "metadata": {},
     "output_type": "execute_result"
    }
   ],
   "source": [
    "#stats on dataset. Small population size. Most units 1 bedroom, 1-2 bathrooms, 1 bed. small number of X values missing\n",
    "#NOTE: I thought about concatenating bedrooms + bathrooms + beds into 1 categorical variable and using pandas.get_dummies(), \n",
    "#but the population is small (I didn't think this would be a good approach).\n",
    "df_1.describe()"
   ]
  },
  {
   "cell_type": "code",
   "execution_count": 104,
   "id": "95f90855",
   "metadata": {},
   "outputs": [
    {
     "data": {
      "text/plain": [
       "price        0.000000\n",
       "bedrooms     0.278940\n",
       "bathrooms    0.390516\n",
       "dtype: float64"
      ]
     },
     "execution_count": 104,
     "metadata": {},
     "output_type": "execute_result"
    }
   ],
   "source": [
    "#Price (Y) no nulls; X axis values show small number of null values, < 1%. However, dataset 3.5K (small set to begin with)\n",
    "#Makes more sense to impute X values with mean so we do not lose value\n",
    "(np.sum(df_1.isnull() == True)/df_1.shape[0])*100"
   ]
  },
  {
   "cell_type": "code",
   "execution_count": 105,
   "id": "29e92786",
   "metadata": {},
   "outputs": [
    {
     "data": {
      "text/html": [
       "<div>\n",
       "<style scoped>\n",
       "    .dataframe tbody tr th:only-of-type {\n",
       "        vertical-align: middle;\n",
       "    }\n",
       "\n",
       "    .dataframe tbody tr th {\n",
       "        vertical-align: top;\n",
       "    }\n",
       "\n",
       "    .dataframe thead th {\n",
       "        text-align: right;\n",
       "    }\n",
       "</style>\n",
       "<table border=\"1\" class=\"dataframe\">\n",
       "  <thead>\n",
       "    <tr style=\"text-align: right;\">\n",
       "      <th></th>\n",
       "      <th>price</th>\n",
       "      <th>bedrooms</th>\n",
       "      <th>bathrooms</th>\n",
       "    </tr>\n",
       "  </thead>\n",
       "  <tbody>\n",
       "    <tr>\n",
       "      <th>103</th>\n",
       "      <td>85.0</td>\n",
       "      <td>1.0</td>\n",
       "      <td>NaN</td>\n",
       "    </tr>\n",
       "    <tr>\n",
       "      <th>630</th>\n",
       "      <td>35.0</td>\n",
       "      <td>1.0</td>\n",
       "      <td>NaN</td>\n",
       "    </tr>\n",
       "    <tr>\n",
       "      <th>755</th>\n",
       "      <td>99.0</td>\n",
       "      <td>1.0</td>\n",
       "      <td>NaN</td>\n",
       "    </tr>\n",
       "    <tr>\n",
       "      <th>800</th>\n",
       "      <td>167.0</td>\n",
       "      <td>1.0</td>\n",
       "      <td>NaN</td>\n",
       "    </tr>\n",
       "    <tr>\n",
       "      <th>820</th>\n",
       "      <td>60.0</td>\n",
       "      <td>1.0</td>\n",
       "      <td>NaN</td>\n",
       "    </tr>\n",
       "    <tr>\n",
       "      <th>825</th>\n",
       "      <td>60.0</td>\n",
       "      <td>1.0</td>\n",
       "      <td>NaN</td>\n",
       "    </tr>\n",
       "    <tr>\n",
       "      <th>888</th>\n",
       "      <td>163.0</td>\n",
       "      <td>1.0</td>\n",
       "      <td>NaN</td>\n",
       "    </tr>\n",
       "    <tr>\n",
       "      <th>910</th>\n",
       "      <td>53.0</td>\n",
       "      <td>1.0</td>\n",
       "      <td>NaN</td>\n",
       "    </tr>\n",
       "    <tr>\n",
       "      <th>989</th>\n",
       "      <td>98.0</td>\n",
       "      <td>1.0</td>\n",
       "      <td>NaN</td>\n",
       "    </tr>\n",
       "    <tr>\n",
       "      <th>1120</th>\n",
       "      <td>135.0</td>\n",
       "      <td>1.0</td>\n",
       "      <td>NaN</td>\n",
       "    </tr>\n",
       "    <tr>\n",
       "      <th>2196</th>\n",
       "      <td>249.0</td>\n",
       "      <td>1.0</td>\n",
       "      <td>NaN</td>\n",
       "    </tr>\n",
       "    <tr>\n",
       "      <th>2201</th>\n",
       "      <td>349.0</td>\n",
       "      <td>2.0</td>\n",
       "      <td>NaN</td>\n",
       "    </tr>\n",
       "    <tr>\n",
       "      <th>2785</th>\n",
       "      <td>50.0</td>\n",
       "      <td>1.0</td>\n",
       "      <td>NaN</td>\n",
       "    </tr>\n",
       "    <tr>\n",
       "      <th>2819</th>\n",
       "      <td>57.0</td>\n",
       "      <td>1.0</td>\n",
       "      <td>NaN</td>\n",
       "    </tr>\n",
       "  </tbody>\n",
       "</table>\n",
       "</div>"
      ],
      "text/plain": [
       "      price  bedrooms  bathrooms\n",
       "103    85.0       1.0        NaN\n",
       "630    35.0       1.0        NaN\n",
       "755    99.0       1.0        NaN\n",
       "800   167.0       1.0        NaN\n",
       "820    60.0       1.0        NaN\n",
       "825    60.0       1.0        NaN\n",
       "888   163.0       1.0        NaN\n",
       "910    53.0       1.0        NaN\n",
       "989    98.0       1.0        NaN\n",
       "1120  135.0       1.0        NaN\n",
       "2196  249.0       1.0        NaN\n",
       "2201  349.0       2.0        NaN\n",
       "2785   50.0       1.0        NaN\n",
       "2819   57.0       1.0        NaN"
      ]
     },
     "execution_count": 105,
     "metadata": {},
     "output_type": "execute_result"
    }
   ],
   "source": [
    "#identify null bathroom rows (will check before/after rows filled with mean)\n",
    "#check row 989 after\n",
    "df_1[df_1['bathrooms'].isna()]"
   ]
  },
  {
   "cell_type": "code",
   "execution_count": 106,
   "id": "2f8217f2",
   "metadata": {},
   "outputs": [
    {
     "data": {
      "text/html": [
       "<div>\n",
       "<style scoped>\n",
       "    .dataframe tbody tr th:only-of-type {\n",
       "        vertical-align: middle;\n",
       "    }\n",
       "\n",
       "    .dataframe tbody tr th {\n",
       "        vertical-align: top;\n",
       "    }\n",
       "\n",
       "    .dataframe thead th {\n",
       "        text-align: right;\n",
       "    }\n",
       "</style>\n",
       "<table border=\"1\" class=\"dataframe\">\n",
       "  <thead>\n",
       "    <tr style=\"text-align: right;\">\n",
       "      <th></th>\n",
       "      <th>price</th>\n",
       "      <th>bedrooms</th>\n",
       "      <th>bathrooms</th>\n",
       "    </tr>\n",
       "  </thead>\n",
       "  <tbody>\n",
       "    <tr>\n",
       "      <th>918</th>\n",
       "      <td>176.0</td>\n",
       "      <td>NaN</td>\n",
       "      <td>1.0</td>\n",
       "    </tr>\n",
       "    <tr>\n",
       "      <th>920</th>\n",
       "      <td>229.0</td>\n",
       "      <td>NaN</td>\n",
       "      <td>1.0</td>\n",
       "    </tr>\n",
       "    <tr>\n",
       "      <th>924</th>\n",
       "      <td>275.0</td>\n",
       "      <td>NaN</td>\n",
       "      <td>1.0</td>\n",
       "    </tr>\n",
       "    <tr>\n",
       "      <th>1095</th>\n",
       "      <td>186.0</td>\n",
       "      <td>NaN</td>\n",
       "      <td>1.0</td>\n",
       "    </tr>\n",
       "    <tr>\n",
       "      <th>1117</th>\n",
       "      <td>269.0</td>\n",
       "      <td>NaN</td>\n",
       "      <td>1.0</td>\n",
       "    </tr>\n",
       "    <tr>\n",
       "      <th>1132</th>\n",
       "      <td>225.0</td>\n",
       "      <td>NaN</td>\n",
       "      <td>1.0</td>\n",
       "    </tr>\n",
       "    <tr>\n",
       "      <th>1251</th>\n",
       "      <td>209.0</td>\n",
       "      <td>NaN</td>\n",
       "      <td>1.0</td>\n",
       "    </tr>\n",
       "    <tr>\n",
       "      <th>1366</th>\n",
       "      <td>209.0</td>\n",
       "      <td>NaN</td>\n",
       "      <td>1.0</td>\n",
       "    </tr>\n",
       "    <tr>\n",
       "      <th>1419</th>\n",
       "      <td>209.0</td>\n",
       "      <td>NaN</td>\n",
       "      <td>1.0</td>\n",
       "    </tr>\n",
       "    <tr>\n",
       "      <th>1959</th>\n",
       "      <td>175.0</td>\n",
       "      <td>NaN</td>\n",
       "      <td>1.0</td>\n",
       "    </tr>\n",
       "  </tbody>\n",
       "</table>\n",
       "</div>"
      ],
      "text/plain": [
       "      price  bedrooms  bathrooms\n",
       "918   176.0       NaN        1.0\n",
       "920   229.0       NaN        1.0\n",
       "924   275.0       NaN        1.0\n",
       "1095  186.0       NaN        1.0\n",
       "1117  269.0       NaN        1.0\n",
       "1132  225.0       NaN        1.0\n",
       "1251  209.0       NaN        1.0\n",
       "1366  209.0       NaN        1.0\n",
       "1419  209.0       NaN        1.0\n",
       "1959  175.0       NaN        1.0"
      ]
     },
     "execution_count": 106,
     "metadata": {},
     "output_type": "execute_result"
    }
   ],
   "source": [
    "#identify null bedroom rows (will check before/after rows filled with mean)\n",
    "#check row 918 after\n",
    "df_1[df_1['bedrooms'].isna()]"
   ]
  },
  {
   "cell_type": "code",
   "execution_count": 107,
   "id": "d688f6ac",
   "metadata": {},
   "outputs": [],
   "source": [
    "# Fill null numeric columns with the mean.\n",
    "# Ignore SettingWithCopyWarning code from stackoverflow:\n",
    "# https://stackoverflow.com/questions/20625582/how-to-deal-with-settingwithcopywarning-in-pandas\n",
    "pd.options.mode.chained_assignment = None  \n",
    "num_vars = df_1.select_dtypes(include=['float64', 'int']).columns\n",
    "for col in num_vars:\n",
    "    df_1a = df_1[col].fillna((df_1[col].mean()), inplace=True)"
   ]
  },
  {
   "cell_type": "code",
   "execution_count": 108,
   "id": "f45edcbf",
   "metadata": {},
   "outputs": [
    {
     "data": {
      "text/plain": [
       "price        0\n",
       "bedrooms     0\n",
       "bathrooms    0\n",
       "dtype: int64"
      ]
     },
     "execution_count": 108,
     "metadata": {},
     "output_type": "execute_result"
    }
   ],
   "source": [
    "#validate nulls no longer exist (no nulls exist)\n",
    "np.sum(df_1.isnull() == True)"
   ]
  },
  {
   "cell_type": "code",
   "execution_count": 110,
   "id": "cb2a778f",
   "metadata": {},
   "outputs": [
    {
     "data": {
      "text/plain": [
       "price        98.000000\n",
       "bedrooms      1.000000\n",
       "bathrooms     1.221647\n",
       "Name: 989, dtype: float64"
      ]
     },
     "execution_count": 110,
     "metadata": {},
     "output_type": "execute_result"
    }
   ],
   "source": [
    "#spot check row 989 (null bathroom) is now filled with mean...checks out\n",
    "df_1.loc[989]"
   ]
  },
  {
   "cell_type": "code",
   "execution_count": 111,
   "id": "4d63187d",
   "metadata": {},
   "outputs": [
    {
     "data": {
      "text/plain": [
       "price        176.000000\n",
       "bedrooms       1.255944\n",
       "bathrooms      1.000000\n",
       "Name: 918, dtype: float64"
      ]
     },
     "execution_count": 111,
     "metadata": {},
     "output_type": "execute_result"
    }
   ],
   "source": [
    "#spot check row 918 (null bedroom) is now filled with mean ...checks out\n",
    "df_1.loc[918]"
   ]
  },
  {
   "cell_type": "code",
   "execution_count": 112,
   "id": "3a484cfe",
   "metadata": {},
   "outputs": [
    {
     "data": {
      "image/png": "[encoded data removed]",
      "text/plain": [
       "<Figure size 432x288 with 2 Axes>"
      ]
     },
     "metadata": {
      "needs_background": "light"
     },
     "output_type": "display_data"
    }
   ],
   "source": [
    "#Heatmap to show correlation of price to rooms\n",
    "#higher correlation with price and bedrooms, lower correlation with bathrooms\n",
    "sns.heatmap(df_1.corr(), annot=True, fmt=\".2f\");"
   ]
  },
  {
   "cell_type": "code",
   "execution_count": 113,
   "id": "54eb8afb",
   "metadata": {},
   "outputs": [],
   "source": [
    "#create model with several output sets for plotting. function modified from:\n",
    "# https://github.com/udacity/DSND_Term2/blob/master/lessons/CRISP_DM/Categorical%20Variables%20-%20Solution.ipynb\n",
    "def clean_fit_linear_mod(df, response_col, test_size=.3, rand_state=42):\n",
    "\n",
    "\n",
    "    #Split into explanatory and response variables\n",
    "    X = df.drop(response_col, axis=1)\n",
    "    y = df[response_col]\n",
    "\n",
    "    #Split into train and test\n",
    "    X_train, X_test, y_train, y_test = train_test_split(X, y, test_size=test_size, random_state=rand_state)\n",
    "\n",
    "    lm_model = LinearRegression(normalize=True) # Instantiate\n",
    "    lm_model.fit(X_train, y_train) #Fit\n",
    "\n",
    "    #Predict using your model\n",
    "    y_test_preds = lm_model.predict(X_test)\n",
    "    y_train_preds = lm_model.predict(X_train)\n",
    "\n",
    "    #Score using your model\n",
    "    test_score = r2_score(y_test, y_test_preds)\n",
    "    train_score = r2_score(y_train, y_train_preds)\n",
    "\n",
    "    return test_score, train_score, lm_model, X_train, X_test, y_train, y_test, y_test_preds\n",
    "\n",
    "\n",
    "#create output sets\n",
    "test_score, train_score, lm_model, X_train, X_test, y_train, y_test, y_test_preds = clean_fit_linear_mod(df_1, 'price')"
   ]
  },
  {
   "cell_type": "code",
   "execution_count": 114,
   "id": "95227812",
   "metadata": {},
   "outputs": [
    {
     "name": "stdout",
     "output_type": "stream",
     "text": [
      "The rsquared on the training data was 0.175399404110552.  The rsquared on the test data was 0.12728775019667382.\n"
     ]
    }
   ],
   "source": [
    "#training and testing score. R squared lower and not too far off between test and training data, \n",
    "#indicating overfitting is not happening\n",
    "print(\"The rsquared on the training data was {}.  The rsquared on the test data was {}.\".format(train_score, test_score))"
   ]
  },
  {
   "cell_type": "code",
   "execution_count": 85,
   "id": "a760fa53",
   "metadata": {},
   "outputs": [
    {
     "name": "stdout",
     "output_type": "stream",
     "text": [
      "Coefficients:  [67.72241705 27.31573976]\n"
     ]
    },
    {
     "data": {
      "image/png": "[encoded data removed]",
      "text/plain": [
       "<Figure size 432x288 with 1 Axes>"
      ]
     },
     "metadata": {
      "needs_background": "light"
     },
     "output_type": "display_data"
    },
    {
     "data": {
      "text/plain": [
       "Text(0.5, 1.0, 'Price to # of Bedrooms Plot')"
      ]
     },
     "execution_count": 85,
     "metadata": {},
     "output_type": "execute_result"
    },
    {
     "data": {
      "image/png": "[encoded data removed]",
      "text/plain": [
       "<Figure size 432x288 with 1 Axes>"
      ]
     },
     "metadata": {
      "needs_background": "light"
     },
     "output_type": "display_data"
    }
   ],
   "source": [
    "#Show coefficients and scatter plot (matplotlib and seaborn libraries) with number of bedrooms for X\n",
    "#plot shows 1 extreme outlier, price = $4,000 ...I set the limit to 600 below with matplotlib\n",
    "\n",
    "# coefficients\n",
    "print('Coefficients: ', lm_model.coef_)\n",
    "\n",
    "# Plot with matplotlib\n",
    "plt.scatter(X_test['bedrooms'], y_test,  color='black') \n",
    "plt.plot(X_test['bedrooms'], y_test_preds, color='blue', linewidth=1)\n",
    "plt.ylim(0, 600)\n",
    "plt.show()\n",
    "\n",
    "#plot with seaborn (looks cleaner)\n",
    "sns.regplot(x=X_test['bedrooms'], y=y_test, truncate = True).set_title('Price to # of Bedrooms Plot')"
   ]
  },
  {
   "cell_type": "code",
   "execution_count": 115,
   "id": "7528d7f6",
   "metadata": {
    "scrolled": false
   },
   "outputs": [
    {
     "name": "stdout",
     "output_type": "stream",
     "text": [
      "Coefficients:  [67.72241705 27.31573976]\n"
     ]
    },
    {
     "data": {
      "image/png": "[encoded data removed]",
      "text/plain": [
       "<Figure size 432x288 with 1 Axes>"
      ]
     },
     "metadata": {
      "needs_background": "light"
     },
     "output_type": "display_data"
    },
    {
     "data": {
      "text/plain": [
       "Text(0.5, 1.0, 'Price to # of Bathrooms Plot')"
      ]
     },
     "execution_count": 115,
     "metadata": {},
     "output_type": "execute_result"
    },
    {
     "data": {
      "image/png": "[encoded data removed]",
      "text/plain": [
       "<Figure size 432x288 with 1 Axes>"
      ]
     },
     "metadata": {
      "needs_background": "light"
     },
     "output_type": "display_data"
    }
   ],
   "source": [
    "#Show coefficients and scatter plot (matplotlib and seaborn libraries) with number of bathrooms for X\n",
    "# plot shows 1 extreme outlier, price = $4,000 ...I set the limit to 600 below with matplotlib\n",
    "\n",
    "# coefficients\n",
    "print('Coefficients: ', lm_model.coef_)\n",
    "\n",
    "# Plot with matplotlib\n",
    "plt.scatter(X_test['bathrooms'], y_test,  color='black') \n",
    "plt.plot(X_test['bathrooms'], y_test_preds, color='blue', linewidth=1)\n",
    "plt.ylim(0, 600)\n",
    "plt.show()\n",
    "\n",
    "#plot with seaborn (looks cleaner)\n",
    "sns.regplot(x=X_test['bathrooms'], y=y_test, truncate = True).set_title('Price to # of Bathrooms Plot')"
   ]
  },
  {
   "cell_type": "code",
   "execution_count": 116,
   "id": "d8b8df44",
   "metadata": {},
   "outputs": [],
   "source": [
    "#Conclusion Question 1: \n",
    "#positive relationship exists between increase in price and increase in bedrooms and bathrooms (linear plots).\n",
    "#price more correlated to number of bedrooms, less correlated to number of bathrooms (heat map)\n",
    "#coefficients are positive, indicating X and y variables both increase  (listed above)\n",
    "#R squared not too far off between test and training data, indicating overfitting not an issue (listed above)\n",
    "####################################################\n",
    "####################################################\n",
    "####################################################\n",
    "####################################################\n",
    "#END Question 1.........................................."
   ]
  },
  {
   "cell_type": "code",
   "execution_count": 117,
   "id": "0595a1c4",
   "metadata": {},
   "outputs": [
    {
     "data": {
      "text/html": [
       "<div>\n",
       "<style scoped>\n",
       "    .dataframe tbody tr th:only-of-type {\n",
       "        vertical-align: middle;\n",
       "    }\n",
       "\n",
       "    .dataframe tbody tr th {\n",
       "        vertical-align: top;\n",
       "    }\n",
       "\n",
       "    .dataframe thead th {\n",
       "        text-align: right;\n",
       "    }\n",
       "</style>\n",
       "<table border=\"1\" class=\"dataframe\">\n",
       "  <thead>\n",
       "    <tr style=\"text-align: right;\">\n",
       "      <th></th>\n",
       "      <th>mean_price</th>\n",
       "      <th>med_price</th>\n",
       "      <th>cnt_listings</th>\n",
       "      <th>min_price</th>\n",
       "      <th>max_price</th>\n",
       "    </tr>\n",
       "    <tr>\n",
       "      <th>bedrooms</th>\n",
       "      <th></th>\n",
       "      <th></th>\n",
       "      <th></th>\n",
       "      <th></th>\n",
       "      <th></th>\n",
       "    </tr>\n",
       "  </thead>\n",
       "  <tbody>\n",
       "    <tr>\n",
       "      <th>5.000000</th>\n",
       "      <td>429.000000</td>\n",
       "      <td>341.5</td>\n",
       "      <td>16</td>\n",
       "      <td>100.0</td>\n",
       "      <td>1300.0</td>\n",
       "    </tr>\n",
       "    <tr>\n",
       "      <th>4.000000</th>\n",
       "      <td>389.400000</td>\n",
       "      <td>375.0</td>\n",
       "      <td>45</td>\n",
       "      <td>115.0</td>\n",
       "      <td>750.0</td>\n",
       "    </tr>\n",
       "    <tr>\n",
       "      <th>3.000000</th>\n",
       "      <td>316.419355</td>\n",
       "      <td>279.0</td>\n",
       "      <td>155</td>\n",
       "      <td>84.0</td>\n",
       "      <td>1250.0</td>\n",
       "    </tr>\n",
       "    <tr>\n",
       "      <th>2.000000</th>\n",
       "      <td>258.753247</td>\n",
       "      <td>249.0</td>\n",
       "      <td>693</td>\n",
       "      <td>45.0</td>\n",
       "      <td>3000.0</td>\n",
       "    </tr>\n",
       "    <tr>\n",
       "      <th>1.255944</th>\n",
       "      <td>216.200000</td>\n",
       "      <td>209.0</td>\n",
       "      <td>10</td>\n",
       "      <td>175.0</td>\n",
       "      <td>275.0</td>\n",
       "    </tr>\n",
       "    <tr>\n",
       "      <th>0.000000</th>\n",
       "      <td>154.668990</td>\n",
       "      <td>150.0</td>\n",
       "      <td>287</td>\n",
       "      <td>55.0</td>\n",
       "      <td>450.0</td>\n",
       "    </tr>\n",
       "    <tr>\n",
       "      <th>1.000000</th>\n",
       "      <td>136.285834</td>\n",
       "      <td>103.0</td>\n",
       "      <td>2379</td>\n",
       "      <td>10.0</td>\n",
       "      <td>4000.0</td>\n",
       "    </tr>\n",
       "  </tbody>\n",
       "</table>\n",
       "</div>"
      ],
      "text/plain": [
       "          mean_price  med_price  cnt_listings  min_price  max_price\n",
       "bedrooms                                                           \n",
       "5.000000  429.000000      341.5            16      100.0     1300.0\n",
       "4.000000  389.400000      375.0            45      115.0      750.0\n",
       "3.000000  316.419355      279.0           155       84.0     1250.0\n",
       "2.000000  258.753247      249.0           693       45.0     3000.0\n",
       "1.255944  216.200000      209.0            10      175.0      275.0\n",
       "0.000000  154.668990      150.0           287       55.0      450.0\n",
       "1.000000  136.285834      103.0          2379       10.0     4000.0"
      ]
     },
     "execution_count": 117,
     "metadata": {},
     "output_type": "execute_result"
    }
   ],
   "source": [
    "####################################################\n",
    "####################################################\n",
    "####################################################\n",
    "####################################################\n",
    "#Question 2: Can we provide insight into how much a rental with a certain number of bedrooms/bathrooms should list?\n",
    "\n",
    "#descriptive stats: plots from Question 1 do not display pricing well. need a table/chart to display exact amounts\n",
    "df_1_mean= df_1.groupby(df_1.bedrooms) \\\n",
    ".agg(\n",
    "     mean_price=pd.NamedAgg(column='price', aggfunc='mean'), \\\n",
    "     med_price=pd.NamedAgg(column='price', aggfunc='median'), \\\n",
    "     cnt_listings=pd.NamedAgg(column='price', aggfunc='count'), \\\n",
    "     min_price=pd.NamedAgg(column='price', aggfunc='min'),  \\\n",
    "     max_price=pd.NamedAgg(column='price', aggfunc='max'),  \\\n",
    "    )\n",
    "#sorted descriptive stats by mean price highest to lowest\n",
    "df_1_mean.sort_values(\"mean_price\", ascending=False)"
   ]
  },
  {
   "cell_type": "code",
   "execution_count": 118,
   "id": "3bdbfa2d",
   "metadata": {},
   "outputs": [],
   "source": [
    "#Question 2 analysis: \n",
    "# mean and median rental prices list in the chart above.\n",
    "#NOTE: 0 bedroom rentals cost more than 1 bedroom. Sampling data from the .csv these are full studio apartment \n",
    "#rentals. Typically cost more than renting a single room, which makes sense. \n",
    "####################################################\n",
    "####################################################\n",
    "####################################################\n",
    "####################################################\n",
    "#End question 2"
   ]
  },
  {
   "cell_type": "code",
   "execution_count": 120,
   "id": "8637779d",
   "metadata": {},
   "outputs": [
    {
     "data": {
      "text/plain": [
       "price                     0.0\n",
       "neighbourhood_cleansed    0.0\n",
       "dtype: float64"
      ]
     },
     "execution_count": 120,
     "metadata": {},
     "output_type": "execute_result"
    }
   ],
   "source": [
    "####################################################\n",
    "####################################################\n",
    "####################################################\n",
    "####################################################\n",
    "#Question 3: Can we provide Airbnb owners typical rental prices in different Boston neighborhoods?\n",
    "\n",
    "#neighborhood_cleansed (neighborhood) field has no null values; will not need to remove nulls. \n",
    "(np.sum(df_3.isnull() == True)/df_3.shape[0])*100"
   ]
  },
  {
   "cell_type": "code",
   "execution_count": 121,
   "id": "62fbebce",
   "metadata": {},
   "outputs": [
    {
     "data": {
      "image/png": "[encoded data removed]",
      "text/plain": [
       "<Figure size 432x288 with 1 Axes>"
      ]
     },
     "metadata": {
      "needs_background": "light"
     },
     "output_type": "display_data"
    },
    {
     "data": {
      "text/html": [
       "<div>\n",
       "<style scoped>\n",
       "    .dataframe tbody tr th:only-of-type {\n",
       "        vertical-align: middle;\n",
       "    }\n",
       "\n",
       "    .dataframe tbody tr th {\n",
       "        vertical-align: top;\n",
       "    }\n",
       "\n",
       "    .dataframe thead th {\n",
       "        text-align: right;\n",
       "    }\n",
       "</style>\n",
       "<table border=\"1\" class=\"dataframe\">\n",
       "  <thead>\n",
       "    <tr style=\"text-align: right;\">\n",
       "      <th></th>\n",
       "      <th>mean_price</th>\n",
       "      <th>med_price</th>\n",
       "      <th>cnt_listings</th>\n",
       "      <th>min_price</th>\n",
       "      <th>max_price</th>\n",
       "    </tr>\n",
       "    <tr>\n",
       "      <th>neighbourhood_cleansed</th>\n",
       "      <th></th>\n",
       "      <th></th>\n",
       "      <th></th>\n",
       "      <th></th>\n",
       "      <th></th>\n",
       "    </tr>\n",
       "  </thead>\n",
       "  <tbody>\n",
       "    <tr>\n",
       "      <th>Leather District</th>\n",
       "      <td>253.600000</td>\n",
       "      <td>245.0</td>\n",
       "      <td>5</td>\n",
       "      <td>159.0</td>\n",
       "      <td>390.0</td>\n",
       "    </tr>\n",
       "    <tr>\n",
       "      <th>South Boston Waterfront</th>\n",
       "      <td>306.060241</td>\n",
       "      <td>245.0</td>\n",
       "      <td>83</td>\n",
       "      <td>115.0</td>\n",
       "      <td>3000.0</td>\n",
       "    </tr>\n",
       "    <tr>\n",
       "      <th>Downtown</th>\n",
       "      <td>236.459302</td>\n",
       "      <td>225.0</td>\n",
       "      <td>172</td>\n",
       "      <td>10.0</td>\n",
       "      <td>600.0</td>\n",
       "    </tr>\n",
       "    <tr>\n",
       "      <th>Chinatown</th>\n",
       "      <td>232.352113</td>\n",
       "      <td>219.0</td>\n",
       "      <td>71</td>\n",
       "      <td>80.0</td>\n",
       "      <td>399.0</td>\n",
       "    </tr>\n",
       "    <tr>\n",
       "      <th>Back Bay</th>\n",
       "      <td>240.950331</td>\n",
       "      <td>209.0</td>\n",
       "      <td>302</td>\n",
       "      <td>40.0</td>\n",
       "      <td>1250.0</td>\n",
       "    </tr>\n",
       "    <tr>\n",
       "      <th>Bay Village</th>\n",
       "      <td>266.833333</td>\n",
       "      <td>206.5</td>\n",
       "      <td>24</td>\n",
       "      <td>90.0</td>\n",
       "      <td>500.0</td>\n",
       "    </tr>\n",
       "    <tr>\n",
       "      <th>West End</th>\n",
       "      <td>209.591837</td>\n",
       "      <td>199.0</td>\n",
       "      <td>49</td>\n",
       "      <td>60.0</td>\n",
       "      <td>450.0</td>\n",
       "    </tr>\n",
       "    <tr>\n",
       "      <th>Beacon Hill</th>\n",
       "      <td>224.443299</td>\n",
       "      <td>195.0</td>\n",
       "      <td>194</td>\n",
       "      <td>75.0</td>\n",
       "      <td>1345.0</td>\n",
       "    </tr>\n",
       "    <tr>\n",
       "      <th>Fenway</th>\n",
       "      <td>220.393103</td>\n",
       "      <td>191.0</td>\n",
       "      <td>290</td>\n",
       "      <td>30.0</td>\n",
       "      <td>4000.0</td>\n",
       "    </tr>\n",
       "    <tr>\n",
       "      <th>Charlestown</th>\n",
       "      <td>198.045045</td>\n",
       "      <td>180.0</td>\n",
       "      <td>111</td>\n",
       "      <td>39.0</td>\n",
       "      <td>1000.0</td>\n",
       "    </tr>\n",
       "    <tr>\n",
       "      <th>South End</th>\n",
       "      <td>204.349693</td>\n",
       "      <td>180.0</td>\n",
       "      <td>326</td>\n",
       "      <td>45.0</td>\n",
       "      <td>1300.0</td>\n",
       "    </tr>\n",
       "    <tr>\n",
       "      <th>North End</th>\n",
       "      <td>195.678322</td>\n",
       "      <td>179.0</td>\n",
       "      <td>143</td>\n",
       "      <td>35.0</td>\n",
       "      <td>600.0</td>\n",
       "    </tr>\n",
       "    <tr>\n",
       "      <th>South Boston</th>\n",
       "      <td>187.609195</td>\n",
       "      <td>150.0</td>\n",
       "      <td>174</td>\n",
       "      <td>45.0</td>\n",
       "      <td>1000.0</td>\n",
       "    </tr>\n",
       "    <tr>\n",
       "      <th>Jamaica Plain</th>\n",
       "      <td>138.478134</td>\n",
       "      <td>100.0</td>\n",
       "      <td>343</td>\n",
       "      <td>22.0</td>\n",
       "      <td>750.0</td>\n",
       "    </tr>\n",
       "    <tr>\n",
       "      <th>Roxbury</th>\n",
       "      <td>146.333333</td>\n",
       "      <td>99.0</td>\n",
       "      <td>144</td>\n",
       "      <td>22.0</td>\n",
       "      <td>1400.0</td>\n",
       "    </tr>\n",
       "    <tr>\n",
       "      <th>East Boston</th>\n",
       "      <td>119.153333</td>\n",
       "      <td>99.0</td>\n",
       "      <td>150</td>\n",
       "      <td>30.0</td>\n",
       "      <td>359.0</td>\n",
       "    </tr>\n",
       "    <tr>\n",
       "      <th>Brighton</th>\n",
       "      <td>118.767568</td>\n",
       "      <td>90.0</td>\n",
       "      <td>185</td>\n",
       "      <td>29.0</td>\n",
       "      <td>999.0</td>\n",
       "    </tr>\n",
       "    <tr>\n",
       "      <th>Mission Hill</th>\n",
       "      <td>121.967742</td>\n",
       "      <td>89.5</td>\n",
       "      <td>124</td>\n",
       "      <td>20.0</td>\n",
       "      <td>872.0</td>\n",
       "    </tr>\n",
       "    <tr>\n",
       "      <th>Allston</th>\n",
       "      <td>112.307692</td>\n",
       "      <td>85.0</td>\n",
       "      <td>260</td>\n",
       "      <td>11.0</td>\n",
       "      <td>550.0</td>\n",
       "    </tr>\n",
       "    <tr>\n",
       "      <th>West Roxbury</th>\n",
       "      <td>107.108696</td>\n",
       "      <td>85.0</td>\n",
       "      <td>46</td>\n",
       "      <td>45.0</td>\n",
       "      <td>349.0</td>\n",
       "    </tr>\n",
       "    <tr>\n",
       "      <th>Longwood Medical Area</th>\n",
       "      <td>138.444444</td>\n",
       "      <td>84.0</td>\n",
       "      <td>9</td>\n",
       "      <td>60.0</td>\n",
       "      <td>350.0</td>\n",
       "    </tr>\n",
       "    <tr>\n",
       "      <th>Roslindale</th>\n",
       "      <td>98.428571</td>\n",
       "      <td>76.5</td>\n",
       "      <td>56</td>\n",
       "      <td>40.0</td>\n",
       "      <td>285.0</td>\n",
       "    </tr>\n",
       "    <tr>\n",
       "      <th>Dorchester</th>\n",
       "      <td>91.639405</td>\n",
       "      <td>72.0</td>\n",
       "      <td>269</td>\n",
       "      <td>25.0</td>\n",
       "      <td>395.0</td>\n",
       "    </tr>\n",
       "    <tr>\n",
       "      <th>Mattapan</th>\n",
       "      <td>75.125000</td>\n",
       "      <td>67.0</td>\n",
       "      <td>24</td>\n",
       "      <td>40.0</td>\n",
       "      <td>169.0</td>\n",
       "    </tr>\n",
       "    <tr>\n",
       "      <th>Hyde Park</th>\n",
       "      <td>86.548387</td>\n",
       "      <td>58.0</td>\n",
       "      <td>31</td>\n",
       "      <td>31.0</td>\n",
       "      <td>269.0</td>\n",
       "    </tr>\n",
       "  </tbody>\n",
       "</table>\n",
       "</div>"
      ],
      "text/plain": [
       "                         mean_price  med_price  cnt_listings  min_price  \\\n",
       "neighbourhood_cleansed                                                    \n",
       "Leather District         253.600000      245.0             5      159.0   \n",
       "South Boston Waterfront  306.060241      245.0            83      115.0   \n",
       "Downtown                 236.459302      225.0           172       10.0   \n",
       "Chinatown                232.352113      219.0            71       80.0   \n",
       "Back Bay                 240.950331      209.0           302       40.0   \n",
       "Bay Village              266.833333      206.5            24       90.0   \n",
       "West End                 209.591837      199.0            49       60.0   \n",
       "Beacon Hill              224.443299      195.0           194       75.0   \n",
       "Fenway                   220.393103      191.0           290       30.0   \n",
       "Charlestown              198.045045      180.0           111       39.0   \n",
       "South End                204.349693      180.0           326       45.0   \n",
       "North End                195.678322      179.0           143       35.0   \n",
       "South Boston             187.609195      150.0           174       45.0   \n",
       "Jamaica Plain            138.478134      100.0           343       22.0   \n",
       "Roxbury                  146.333333       99.0           144       22.0   \n",
       "East Boston              119.153333       99.0           150       30.0   \n",
       "Brighton                 118.767568       90.0           185       29.0   \n",
       "Mission Hill             121.967742       89.5           124       20.0   \n",
       "Allston                  112.307692       85.0           260       11.0   \n",
       "West Roxbury             107.108696       85.0            46       45.0   \n",
       "Longwood Medical Area    138.444444       84.0             9       60.0   \n",
       "Roslindale                98.428571       76.5            56       40.0   \n",
       "Dorchester                91.639405       72.0           269       25.0   \n",
       "Mattapan                  75.125000       67.0            24       40.0   \n",
       "Hyde Park                 86.548387       58.0            31       31.0   \n",
       "\n",
       "                         max_price  \n",
       "neighbourhood_cleansed              \n",
       "Leather District             390.0  \n",
       "South Boston Waterfront     3000.0  \n",
       "Downtown                     600.0  \n",
       "Chinatown                    399.0  \n",
       "Back Bay                    1250.0  \n",
       "Bay Village                  500.0  \n",
       "West End                     450.0  \n",
       "Beacon Hill                 1345.0  \n",
       "Fenway                      4000.0  \n",
       "Charlestown                 1000.0  \n",
       "South End                   1300.0  \n",
       "North End                    600.0  \n",
       "South Boston                1000.0  \n",
       "Jamaica Plain                750.0  \n",
       "Roxbury                     1400.0  \n",
       "East Boston                  359.0  \n",
       "Brighton                     999.0  \n",
       "Mission Hill                 872.0  \n",
       "Allston                      550.0  \n",
       "West Roxbury                 349.0  \n",
       "Longwood Medical Area        350.0  \n",
       "Roslindale                   285.0  \n",
       "Dorchester                   395.0  \n",
       "Mattapan                     169.0  \n",
       "Hyde Park                    269.0  "
      ]
     },
     "execution_count": 121,
     "metadata": {},
     "output_type": "execute_result"
    }
   ],
   "source": [
    "#price per Boston neighborhood, seaborn barplot, unsorted\n",
    "sns.barplot(x = 'neighbourhood_cleansed', y = 'price', data = df_3)\n",
    "plt.ylabel('Boston Airbnb Listing Price')\n",
    "plt.xlabel('Boston Neighborhood')\n",
    "plt.xticks(rotation=90)\n",
    "plt.show()\n",
    "\n",
    "#descriptive stats\n",
    "df_3_mean= df_2.groupby(df_3.neighbourhood_cleansed) \\\n",
    ".agg(\n",
    "     mean_price=pd.NamedAgg(column='price', aggfunc='mean'), \\\n",
    "     med_price=pd.NamedAgg(column='price', aggfunc='median'), \\\n",
    "     cnt_listings=pd.NamedAgg(column='price', aggfunc='count'), \\\n",
    "     min_price=pd.NamedAgg(column='price', aggfunc='min'),  \\\n",
    "     max_price=pd.NamedAgg(column='price', aggfunc='max'),  \\\n",
    "    )\n",
    "#sorted descriptive stats by median price highest to lowest (may be a better indicator of category (high to low) than mean)\n",
    "df_3_mean.sort_values(\"med_price\", ascending=False)"
   ]
  },
  {
   "cell_type": "code",
   "execution_count": 122,
   "id": "736acd52",
   "metadata": {},
   "outputs": [],
   "source": [
    "#Question 3 Analysis findings: \n",
    "#Outliers may skew results and should be careful when drawing conclusions:\n",
    "#Example1: South Boston Waterfront mean price=$306 (highest) but median is $245. Max listing is $3,000, total listings 83.\n",
    "    #High priced listing likely driving the mean much higher (mean could be closer to $250)\n",
    "#Example2: Downtown has a min price of $10 (could be driving the average lower; could be an error in the listing)\n",
    "#Example3: Leather district has 5 listings, but min listing still relatively high (may not be an issue) \n",
    "#Conclusion: using median price may be the best way to categorically rank area pricing from high to low (instead of mean price)\n",
    "####################################################\n",
    "####################################################\n",
    "####################################################\n",
    "####################################################\n",
    "#END QUESTION 3.........................................."
   ]
  },
  {
   "cell_type": "code",
   "execution_count": 135,
   "id": "9e8f5013",
   "metadata": {},
   "outputs": [
    {
     "data": {
      "text/plain": [
       "room_type           0.0\n",
       "calendar_updated    0.0\n",
       "availability_90     0.0\n",
       "dtype: float64"
      ]
     },
     "execution_count": 135,
     "metadata": {},
     "output_type": "execute_result"
    }
   ],
   "source": [
    "####################################################\n",
    "####################################################\n",
    "####################################################\n",
    "####################################################\n",
    "#QUESTION 4: Can we provide feedback on rental type demand (IE, are rooms/shared rooms/full units in higher demand)?\n",
    "\n",
    "#no null values; will not need to remove nulls. \n",
    "(np.sum(df_4.isnull() == True)/df_4.shape[0])*100"
   ]
  },
  {
   "cell_type": "code",
   "execution_count": 137,
   "id": "e33fb0ed",
   "metadata": {},
   "outputs": [
    {
     "data": {
      "text/plain": [
       "(3585, 3)"
      ]
     },
     "execution_count": 137,
     "metadata": {},
     "output_type": "execute_result"
    }
   ],
   "source": [
    "#3,585 total records\n",
    "df_4.shape"
   ]
  },
  {
   "cell_type": "code",
   "execution_count": 138,
   "id": "cab5afa1",
   "metadata": {},
   "outputs": [
    {
     "data": {
      "text/plain": [
       "30 months ago      1\n",
       "20 months ago      1\n",
       "23 months ago      1\n",
       "22 months ago      1\n",
       "25 months ago      2\n",
       "18 months ago      2\n",
       "16 months ago      7\n",
       "15 months ago      8\n",
       "17 months ago      9\n",
       "12 months ago     13\n",
       "11 months ago     17\n",
       "14 months ago     19\n",
       "13 months ago     19\n",
       "never             19\n",
       "8 months ago      32\n",
       "6 months ago      32\n",
       "9 months ago      35\n",
       "6 days ago        36\n",
       "1 week ago        36\n",
       "10 months ago     37\n",
       "7 weeks ago       37\n",
       "7 months ago      43\n",
       "5 months ago      56\n",
       "6 weeks ago       81\n",
       "4 months ago      85\n",
       "2 days ago        98\n",
       "3 days ago       101\n",
       "5 weeks ago      128\n",
       "3 months ago     131\n",
       "5 days ago       132\n",
       "4 weeks ago      158\n",
       "2 months ago     165\n",
       "4 days ago       168\n",
       "yesterday        174\n",
       "3 weeks ago      221\n",
       "2 weeks ago      307\n",
       "a week ago       340\n",
       "today            833\n",
       "Name: calendar_updated, dtype: int64"
      ]
     },
     "execution_count": 138,
     "metadata": {},
     "output_type": "execute_result"
    }
   ],
   "source": [
    "#a smaller number of listings not updated in several months, some never updated. This may affect availability since \n",
    "#listings may be inaccurate or never used/under-utilized. We will remove listings not updated within 6 months\n",
    "df_4.calendar_updated.value_counts(ascending=True)"
   ]
  },
  {
   "cell_type": "code",
   "execution_count": 139,
   "id": "f5dc6fd4",
   "metadata": {},
   "outputs": [],
   "source": [
    "#create drop list and drop rows with older/missing calander_updated values\n",
    "#code idea from https://www.codegrepper.com/code-examples/python/how+to+drop+rows+with+specific+value+in+pandas\n",
    "drop_list = ['23 months ago','20 months ago','30 months ago','22 months ago','25 months ago','18 months ago','16 months ago','15 months ago','17 months ago','12 months ago','11 months ago','never','13 months ago','14 months ago','8 months ago','9 months ago','10 months ago','7 months ago']\n",
    "df_4.drop(df_4.index[df_4['calendar_updated'].isin(drop_list)], inplace = True)"
   ]
  },
  {
   "cell_type": "code",
   "execution_count": 140,
   "id": "62259b81",
   "metadata": {},
   "outputs": [
    {
     "data": {
      "text/plain": [
       "6 months ago     32\n",
       "1 week ago       36\n",
       "6 days ago       36\n",
       "7 weeks ago      37\n",
       "5 months ago     56\n",
       "6 weeks ago      81\n",
       "4 months ago     85\n",
       "2 days ago       98\n",
       "3 days ago      101\n",
       "5 weeks ago     128\n",
       "3 months ago    131\n",
       "5 days ago      132\n",
       "4 weeks ago     158\n",
       "2 months ago    165\n",
       "4 days ago      168\n",
       "yesterday       174\n",
       "3 weeks ago     221\n",
       "2 weeks ago     307\n",
       "a week ago      340\n",
       "today           833\n",
       "Name: calendar_updated, dtype: int64"
      ]
     },
     "execution_count": 140,
     "metadata": {},
     "output_type": "execute_result"
    }
   ],
   "source": [
    "#verify list of values removed\n",
    "df_4.calendar_updated.value_counts(ascending=True)"
   ]
  },
  {
   "cell_type": "code",
   "execution_count": 141,
   "id": "b5c08e21",
   "metadata": {},
   "outputs": [],
   "source": [
    "#drop calendar_updated field (no longer needed)\n",
    "df_4.drop('calendar_updated', axis=1, inplace=True)"
   ]
  },
  {
   "cell_type": "code",
   "execution_count": 129,
   "id": "07e104e6",
   "metadata": {},
   "outputs": [
    {
     "data": {
      "text/html": [
       "<div>\n",
       "<style scoped>\n",
       "    .dataframe tbody tr th:only-of-type {\n",
       "        vertical-align: middle;\n",
       "    }\n",
       "\n",
       "    .dataframe tbody tr th {\n",
       "        vertical-align: top;\n",
       "    }\n",
       "\n",
       "    .dataframe thead th {\n",
       "        text-align: right;\n",
       "    }\n",
       "</style>\n",
       "<table border=\"1\" class=\"dataframe\">\n",
       "  <thead>\n",
       "    <tr style=\"text-align: right;\">\n",
       "      <th></th>\n",
       "      <th>room_type</th>\n",
       "      <th>availability_90</th>\n",
       "    </tr>\n",
       "  </thead>\n",
       "  <tbody>\n",
       "    <tr>\n",
       "      <th>0</th>\n",
       "      <td>Entire home/apt</td>\n",
       "      <td>0</td>\n",
       "    </tr>\n",
       "    <tr>\n",
       "      <th>1</th>\n",
       "      <td>Private room</td>\n",
       "      <td>84</td>\n",
       "    </tr>\n",
       "    <tr>\n",
       "      <th>2</th>\n",
       "      <td>Private room</td>\n",
       "      <td>61</td>\n",
       "    </tr>\n",
       "    <tr>\n",
       "      <th>3</th>\n",
       "      <td>Private room</td>\n",
       "      <td>26</td>\n",
       "    </tr>\n",
       "    <tr>\n",
       "      <th>4</th>\n",
       "      <td>Private room</td>\n",
       "      <td>59</td>\n",
       "    </tr>\n",
       "    <tr>\n",
       "      <th>...</th>\n",
       "      <td>...</td>\n",
       "      <td>...</td>\n",
       "    </tr>\n",
       "    <tr>\n",
       "      <th>3579</th>\n",
       "      <td>Private room</td>\n",
       "      <td>23</td>\n",
       "    </tr>\n",
       "    <tr>\n",
       "      <th>3580</th>\n",
       "      <td>Private room</td>\n",
       "      <td>81</td>\n",
       "    </tr>\n",
       "    <tr>\n",
       "      <th>3582</th>\n",
       "      <td>Entire home/apt</td>\n",
       "      <td>40</td>\n",
       "    </tr>\n",
       "    <tr>\n",
       "      <th>3583</th>\n",
       "      <td>Private room</td>\n",
       "      <td>5</td>\n",
       "    </tr>\n",
       "    <tr>\n",
       "      <th>3584</th>\n",
       "      <td>Private room</td>\n",
       "      <td>75</td>\n",
       "    </tr>\n",
       "  </tbody>\n",
       "</table>\n",
       "<p>3319 rows × 2 columns</p>\n",
       "</div>"
      ],
      "text/plain": [
       "            room_type  availability_90\n",
       "0     Entire home/apt                0\n",
       "1        Private room               84\n",
       "2        Private room               61\n",
       "3        Private room               26\n",
       "4        Private room               59\n",
       "...               ...              ...\n",
       "3579     Private room               23\n",
       "3580     Private room               81\n",
       "3582  Entire home/apt               40\n",
       "3583     Private room                5\n",
       "3584     Private room               75\n",
       "\n",
       "[3319 rows x 2 columns]"
      ]
     },
     "execution_count": 129,
     "metadata": {},
     "output_type": "execute_result"
    }
   ],
   "source": [
    "#verify column dropped\n",
    "df_4"
   ]
  },
  {
   "cell_type": "code",
   "execution_count": 142,
   "id": "1956f952",
   "metadata": {},
   "outputs": [
    {
     "data": {
      "text/html": [
       "<div>\n",
       "<style scoped>\n",
       "    .dataframe tbody tr th:only-of-type {\n",
       "        vertical-align: middle;\n",
       "    }\n",
       "\n",
       "    .dataframe tbody tr th {\n",
       "        vertical-align: top;\n",
       "    }\n",
       "\n",
       "    .dataframe thead th {\n",
       "        text-align: right;\n",
       "    }\n",
       "</style>\n",
       "<table border=\"1\" class=\"dataframe\">\n",
       "  <thead>\n",
       "    <tr style=\"text-align: right;\">\n",
       "      <th></th>\n",
       "      <th>mean_avail_90days</th>\n",
       "      <th>med_avail_90days</th>\n",
       "      <th>cnt_rentals</th>\n",
       "      <th>min_avail_90days</th>\n",
       "      <th>max_avail_90days</th>\n",
       "      <th>std_dev</th>\n",
       "    </tr>\n",
       "    <tr>\n",
       "      <th>room_type</th>\n",
       "      <th></th>\n",
       "      <th></th>\n",
       "      <th></th>\n",
       "      <th></th>\n",
       "      <th></th>\n",
       "      <th></th>\n",
       "    </tr>\n",
       "  </thead>\n",
       "  <tbody>\n",
       "    <tr>\n",
       "      <th>Shared room</th>\n",
       "      <td>48.328767</td>\n",
       "      <td>57</td>\n",
       "      <td>73</td>\n",
       "      <td>0</td>\n",
       "      <td>90</td>\n",
       "      <td>35.878675</td>\n",
       "    </tr>\n",
       "    <tr>\n",
       "      <th>Entire home/apt</th>\n",
       "      <td>41.000500</td>\n",
       "      <td>41</td>\n",
       "      <td>2001</td>\n",
       "      <td>0</td>\n",
       "      <td>90</td>\n",
       "      <td>32.616323</td>\n",
       "    </tr>\n",
       "    <tr>\n",
       "      <th>Private room</th>\n",
       "      <td>39.404819</td>\n",
       "      <td>38</td>\n",
       "      <td>1245</td>\n",
       "      <td>0</td>\n",
       "      <td>90</td>\n",
       "      <td>32.001557</td>\n",
       "    </tr>\n",
       "  </tbody>\n",
       "</table>\n",
       "</div>"
      ],
      "text/plain": [
       "                 mean_avail_90days  med_avail_90days  cnt_rentals  \\\n",
       "room_type                                                           \n",
       "Shared room              48.328767                57           73   \n",
       "Entire home/apt          41.000500                41         2001   \n",
       "Private room             39.404819                38         1245   \n",
       "\n",
       "                 min_avail_90days  max_avail_90days    std_dev  \n",
       "room_type                                                       \n",
       "Shared room                     0                90  35.878675  \n",
       "Entire home/apt                 0                90  32.616323  \n",
       "Private room                    0                90  32.001557  "
      ]
     },
     "execution_count": 142,
     "metadata": {},
     "output_type": "execute_result"
    }
   ],
   "source": [
    "#statistics for Question 4\n",
    "df_4_mean= df_4.groupby(df_4.room_type) \\\n",
    ".agg(\n",
    "    mean_avail_90days=pd.NamedAgg(column='availability_90', aggfunc='mean'), \\\n",
    "     med_avail_90days=pd.NamedAgg(column='availability_90', aggfunc='median'), \\\n",
    "     cnt_rentals=pd.NamedAgg(column='availability_90', aggfunc='count'), \\\n",
    "     min_avail_90days=pd.NamedAgg(column='availability_90', aggfunc='min'),  \\\n",
    "     max_avail_90days=pd.NamedAgg(column='availability_90', aggfunc='max'),  \\\n",
    "     std_dev=pd.NamedAgg(column='availability_90', aggfunc='std'),\n",
    "    )\n",
    "#sorted by median price highest to lowest (may be a better indicator of category (high to low) than mean)\n",
    "df_4_mean.sort_values(\"mean_avail_90days\", ascending=False)"
   ]
  },
  {
   "cell_type": "code",
   "execution_count": 144,
   "id": "dc4bb6e6",
   "metadata": {},
   "outputs": [],
   "source": [
    "#Analysis of question 4: private rooms have the least days available in a 90 day period (lower median and mean availability)\n",
    "#   Followed by Entire home/apt, followed by shared room (least demand)\n",
    "# Entire homes/apt's and Private rooms have a healthy population size; shared rooms do not (may not be as reliable)\n",
    "#private rooms standard deviation the lowest of three types, with data points clustered around the mean. \n",
    "# however, variation in standard deviation between the three sets is still quite similar\n",
    "#CONCLUSION: we can assume private rooms are the most in demand room types for Airbnb listings in Boston\n",
    "#shared rooms are least in demand for Airbnb listings in Boston\n",
    "####################################################\n",
    "####################################################\n",
    "####################################################\n",
    "####################################################\n",
    "#END Question 4.........................................."
   ]
  }
 ],
 "metadata": {
  "kernelspec": {
   "display_name": "Python 3",
   "language": "python",
   "name": "python3"
  },
  "language_info": {
   "codemirror_mode": {
    "name": "ipython",
    "version": 3
   },
   "file_extension": ".py",
   "mimetype": "text/x-python",
   "name": "python",
   "nbconvert_exporter": "python",
   "pygments_lexer": "ipython3",
   "version": "3.8.8"
  }
 },
 "nbformat": 4,
 "nbformat_minor": 5
}
